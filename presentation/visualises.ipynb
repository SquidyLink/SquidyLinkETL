{
 "cells": [
  {
   "cell_type": "code",
   "execution_count": 3,
   "metadata": {},
   "outputs": [
    {
     "name": "stdout",
     "output_type": "stream",
     "text": [
      "0                  VAR-18-10-05\n",
      "1                  VAR-18-10-05\n",
      "2                  VAR-18-10-05\n",
      "3                  VAR-18-10-05\n",
      "4                  VAR-18-10-05\n",
      "5              FIX-12M-19-04-01\n",
      "6                  VAR-19-04-12\n",
      "7                  VAR-19-04-12\n",
      "8           GO-5H-2030-21-05-13\n",
      "9                  VAR-19-04-12\n",
      "10          GO-5H-2030-21-05-13\n",
      "11    SMART-PREPAY-VAR-22-02-08\n",
      "12          GO-5H-2030-21-05-13\n",
      "13          OE-FIX-10M-22-03-08\n",
      "14                  GO-22-03-29\n",
      "15          GO-5H-2130-22-03-29\n",
      "16          AGILE-FLEX-22-11-25\n",
      "17               AGILE-23-12-06\n",
      "Name: product_code, dtype: object\n",
      "0                  E-2R-VAR-18-10-05-E\n",
      "1                  E-2R-VAR-18-10-05-E\n",
      "2                  E-2R-VAR-18-10-05-E\n",
      "3                  E-2R-VAR-18-10-05-E\n",
      "4                  E-2R-VAR-18-10-05-E\n",
      "5              E-2R-FIX-12M-19-04-01-E\n",
      "6                  E-2R-VAR-19-04-12-E\n",
      "7                  E-1R-VAR-19-04-12-E\n",
      "8           E-1R-GO-5H-2030-21-05-13-E\n",
      "9                  E-1R-VAR-19-04-12-E\n",
      "10          E-1R-GO-5H-2030-21-05-13-E\n",
      "11    E-1R-SMART-PREPAY-VAR-22-02-08-E\n",
      "12          E-1R-GO-5H-2030-21-05-13-E\n",
      "13          E-1R-OE-FIX-10M-22-03-08-E\n",
      "14                  E-1R-GO-22-03-29-E\n",
      "15          E-1R-GO-5H-2130-22-03-29-E\n",
      "16          E-1R-AGILE-FLEX-22-11-25-E\n",
      "17               E-1R-AGILE-23-12-06-E\n",
      "Name: tariff_code, dtype: object\n"
     ]
    }
   ],
   "source": []
  }
 ],
 "metadata": {
  "kernelspec": {
   "display_name": "Python 3",
   "language": "python",
   "name": "python3"
  },
  "language_info": {
   "codemirror_mode": {
    "name": "ipython",
    "version": 3
   },
   "file_extension": ".py",
   "mimetype": "text/x-python",
   "name": "python",
   "nbconvert_exporter": "python",
   "pygments_lexer": "ipython3",
   "version": "3.9.6"
  }
 },
 "nbformat": 4,
 "nbformat_minor": 2
}
