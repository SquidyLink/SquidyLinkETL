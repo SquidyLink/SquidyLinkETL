{
 "cells": [
  {
   "cell_type": "code",
   "execution_count": 85,
   "metadata": {},
   "outputs": [
    {
     "name": "stdout",
     "output_type": "stream",
     "text": [
      "URL: https://api.octopus.energy/v1/products/VAR-18-10-05/electricity-tariffs/E-2R-VAR-18-10-05-E/standing-charges/\n",
      "Data saved to ../containers/processed/standing-charges_VAR-18-10-05_E-2R-VAR-18-10-05-E.csv\n",
      "URL: https://api.octopus.energy/v1/products/FIX-12M-19-04-01/electricity-tariffs/E-2R-FIX-12M-19-04-01-E/standing-charges/\n",
      "Data saved to ../containers/processed/standing-charges_FIX-12M-19-04-01_E-2R-FIX-12M-19-04-01-E.csv\n",
      "URL: https://api.octopus.energy/v1/products/VAR-19-04-12/electricity-tariffs/E-2R-VAR-19-04-12-E/standing-charges/\n",
      "Data saved to ../containers/processed/standing-charges_VAR-19-04-12_E-2R-VAR-19-04-12-E.csv\n",
      "Skipping VAR-18-10-05_G-1R-VAR-18-10-05-E as it does not match val_type electricity_meter_points\n",
      "Skipping FIX-12M-19-04-01_G-1R-FIX-12M-19-04-01-E as it does not match val_type electricity_meter_points\n",
      "Skipping VAR-19-04-12_G-1R-VAR-19-04-12-E as it does not match val_type electricity_meter_points\n",
      "URL: https://api.octopus.energy/v1/products/VAR-19-04-12/electricity-tariffs/E-1R-VAR-19-04-12-E/standing-charges/\n",
      "Data saved to ../containers/processed/standing-charges_VAR-19-04-12_E-1R-VAR-19-04-12-E.csv\n",
      "URL: https://api.octopus.energy/v1/products/GO-5H-2030-21-05-13/electricity-tariffs/E-1R-GO-5H-2030-21-05-13-E/standing-charges/\n",
      "Data saved to ../containers/processed/standing-charges_GO-5H-2030-21-05-13_E-1R-GO-5H-2030-21-05-13-E.csv\n",
      "URL: https://api.octopus.energy/v1/products/SMART-PREPAY-VAR-22-02-08/electricity-tariffs/E-1R-SMART-PREPAY-VAR-22-02-08-E/standing-charges/\n",
      "Data saved to ../containers/processed/standing-charges_SMART-PREPAY-VAR-22-02-08_E-1R-SMART-PREPAY-VAR-22-02-08-E.csv\n",
      "URL: https://api.octopus.energy/v1/products/OE-FIX-10M-22-03-08/electricity-tariffs/E-1R-OE-FIX-10M-22-03-08-E/standing-charges/\n",
      "Data saved to ../containers/processed/standing-charges_OE-FIX-10M-22-03-08_E-1R-OE-FIX-10M-22-03-08-E.csv\n",
      "URL: https://api.octopus.energy/v1/products/GO-22-03-29/electricity-tariffs/E-1R-GO-22-03-29-E/standing-charges/\n",
      "Data saved to ../containers/processed/standing-charges_GO-22-03-29_E-1R-GO-22-03-29-E.csv\n",
      "URL: https://api.octopus.energy/v1/products/GO-5H-2130-22-03-29/electricity-tariffs/E-1R-GO-5H-2130-22-03-29-E/standing-charges/\n",
      "Data saved to ../containers/processed/standing-charges_GO-5H-2130-22-03-29_E-1R-GO-5H-2130-22-03-29-E.csv\n",
      "URL: https://api.octopus.energy/v1/products/AGILE-FLEX-22-11-25/electricity-tariffs/E-1R-AGILE-FLEX-22-11-25-E/standing-charges/\n",
      "Data saved to ../containers/processed/standing-charges_AGILE-FLEX-22-11-25_E-1R-AGILE-FLEX-22-11-25-E.csv\n",
      "URL: https://api.octopus.energy/v1/products/AGILE-23-12-06/electricity-tariffs/E-1R-AGILE-23-12-06-E/standing-charges/\n",
      "Data saved to ../containers/processed/standing-charges_AGILE-23-12-06_E-1R-AGILE-23-12-06-E.csv\n",
      "Skipping SMART-PREPAY-VAR-22-02-08_G-1R-SMART-PREPAY-VAR-22-02-08-E as it does not match val_type electricity_meter_points\n",
      "Skipping OE-FIX-10M-22-03-08_G-1R-OE-FIX-10M-22-03-08-E as it does not match val_type electricity_meter_points\n",
      "Skipping VAR-22-10-01_G-1R-VAR-22-10-01-E as it does not match val_type electricity_meter_points\n",
      "Skipping VAR-22-11-01_G-1R-VAR-22-11-01-E as it does not match val_type electricity_meter_points\n"
     ]
    }
   ],
   "source": [
    "import pandas as pd\n",
    "import requests\n",
    "\n",
    "def get_tariffs(URL, name, val_type):\n",
    "    df = pd.read_csv('../containers/processed/account.csv')\n",
    "\n",
    "    new_df = df.drop(['valid_from', 'valid_to'], axis=1)\n",
    "\n",
    "    df_unique = new_df.drop_duplicates(subset=['product_code', 'tariff_code', 'type'])\n",
    "\n",
    "    for index, row in df_unique.iterrows():\n",
    "        tariff_code = row['tariff_code']\n",
    "        product_code = row['product_code']\n",
    "        value_type = row['type']\n",
    "\n",
    "        if value_type == val_type:\n",
    "            api_key = \"\"\n",
    "\n",
    "            url = URL.format(product_code=product_code, tariff_code=tariff_code)\n",
    "            print(\"URL:\", url)\n",
    "\n",
    "            response = requests.get(url, auth=(api_key, ''))\n",
    "\n",
    "            if response.status_code == 200:\n",
    "                output_dict = response.json()\n",
    "                d = []\n",
    "                for data in output_dict['results']:\n",
    "                    d.append({\n",
    "                        \"value_exc_vat\": data.get(\"value_exc_vat\"),\n",
    "                        \"value_inc_vat\": data.get(\"value_inc_vat\"),\n",
    "                        \"valid_from\": data.get(\"valid_from\"),\n",
    "                        \"valid_to\": data.get(\"valid_to\")\n",
    "                    })\n",
    "\n",
    "                df_api = pd.DataFrame(d)\n",
    "\n",
    "                csv_filename = f'../containers/processed/{name}_{product_code}_{tariff_code}.csv'\n",
    "                df_api.to_csv(csv_filename, mode='a', index=False, header=False)\n",
    "                print(f\"Data saved to {csv_filename}\")\n",
    "            else:\n",
    "                print(f\"Error: {response.status_code}\")\n",
    "                print(\"Response:\", response.text)\n",
    "        else:\n",
    "            print(f\"Skipping {product_code}_{tariff_code} as it does not match val_type {val_type}\")"
   ]
  },
  {
   "cell_type": "code",
   "execution_count": 89,
   "metadata": {},
   "outputs": [
    {
     "name": "stdout",
     "output_type": "stream",
     "text": [
      "URL: https://api.octopus.energy/v1/products/VAR-18-10-05/electricity-tariffs/E-2R-VAR-18-10-05-E/standing-charges/\n",
      "Data saved to ../containers/processed/standing-charges_VAR-18-10-05_E-2R-VAR-18-10-05-E.csv\n",
      "URL: https://api.octopus.energy/v1/products/FIX-12M-19-04-01/electricity-tariffs/E-2R-FIX-12M-19-04-01-E/standing-charges/\n",
      "Data saved to ../containers/processed/standing-charges_FIX-12M-19-04-01_E-2R-FIX-12M-19-04-01-E.csv\n",
      "URL: https://api.octopus.energy/v1/products/VAR-19-04-12/electricity-tariffs/E-2R-VAR-19-04-12-E/standing-charges/\n",
      "Data saved to ../containers/processed/standing-charges_VAR-19-04-12_E-2R-VAR-19-04-12-E.csv\n",
      "Skipping VAR-18-10-05_G-1R-VAR-18-10-05-E as it does not match val_type electricity_meter_points\n",
      "Skipping FIX-12M-19-04-01_G-1R-FIX-12M-19-04-01-E as it does not match val_type electricity_meter_points\n",
      "Skipping VAR-19-04-12_G-1R-VAR-19-04-12-E as it does not match val_type electricity_meter_points\n",
      "URL: https://api.octopus.energy/v1/products/VAR-19-04-12/electricity-tariffs/E-1R-VAR-19-04-12-E/standing-charges/\n",
      "Data saved to ../containers/processed/standing-charges_VAR-19-04-12_E-1R-VAR-19-04-12-E.csv\n",
      "URL: https://api.octopus.energy/v1/products/GO-5H-2030-21-05-13/electricity-tariffs/E-1R-GO-5H-2030-21-05-13-E/standing-charges/\n",
      "Data saved to ../containers/processed/standing-charges_GO-5H-2030-21-05-13_E-1R-GO-5H-2030-21-05-13-E.csv\n",
      "URL: https://api.octopus.energy/v1/products/SMART-PREPAY-VAR-22-02-08/electricity-tariffs/E-1R-SMART-PREPAY-VAR-22-02-08-E/standing-charges/\n",
      "Data saved to ../containers/processed/standing-charges_SMART-PREPAY-VAR-22-02-08_E-1R-SMART-PREPAY-VAR-22-02-08-E.csv\n",
      "URL: https://api.octopus.energy/v1/products/OE-FIX-10M-22-03-08/electricity-tariffs/E-1R-OE-FIX-10M-22-03-08-E/standing-charges/\n",
      "Data saved to ../containers/processed/standing-charges_OE-FIX-10M-22-03-08_E-1R-OE-FIX-10M-22-03-08-E.csv\n",
      "URL: https://api.octopus.energy/v1/products/GO-22-03-29/electricity-tariffs/E-1R-GO-22-03-29-E/standing-charges/\n",
      "Data saved to ../containers/processed/standing-charges_GO-22-03-29_E-1R-GO-22-03-29-E.csv\n",
      "URL: https://api.octopus.energy/v1/products/GO-5H-2130-22-03-29/electricity-tariffs/E-1R-GO-5H-2130-22-03-29-E/standing-charges/\n",
      "Data saved to ../containers/processed/standing-charges_GO-5H-2130-22-03-29_E-1R-GO-5H-2130-22-03-29-E.csv\n",
      "URL: https://api.octopus.energy/v1/products/AGILE-FLEX-22-11-25/electricity-tariffs/E-1R-AGILE-FLEX-22-11-25-E/standing-charges/\n",
      "Data saved to ../containers/processed/standing-charges_AGILE-FLEX-22-11-25_E-1R-AGILE-FLEX-22-11-25-E.csv\n",
      "URL: https://api.octopus.energy/v1/products/AGILE-23-12-06/electricity-tariffs/E-1R-AGILE-23-12-06-E/standing-charges/\n",
      "Data saved to ../containers/processed/standing-charges_AGILE-23-12-06_E-1R-AGILE-23-12-06-E.csv\n",
      "Skipping SMART-PREPAY-VAR-22-02-08_G-1R-SMART-PREPAY-VAR-22-02-08-E as it does not match val_type electricity_meter_points\n",
      "Skipping OE-FIX-10M-22-03-08_G-1R-OE-FIX-10M-22-03-08-E as it does not match val_type electricity_meter_points\n",
      "Skipping VAR-22-10-01_G-1R-VAR-22-10-01-E as it does not match val_type electricity_meter_points\n",
      "Skipping VAR-22-11-01_G-1R-VAR-22-11-01-E as it does not match val_type electricity_meter_points\n"
     ]
    }
   ],
   "source": [
    "URL_template = \"https://api.octopus.energy/v1/products/{product_code}/electricity-tariffs/{tariff_code}/standing-charges/\"\n",
    "get_tariffs(URL_template, \"standing-charges\", \"electricity_meter_points\")\n"
   ]
  },
  {
   "cell_type": "code",
   "execution_count": 90,
   "metadata": {},
   "outputs": [
    {
     "name": "stdout",
     "output_type": "stream",
     "text": [
      "URL: https://api.octopus.energy/v1/products/VAR-18-10-05/electricity-tariffs/E-2R-VAR-18-10-05-E/standard-unit-rates/\n",
      "Error: 400\n",
      "Response: {\"detail\":\"This tariff has day and night rates, not standard.\"}\n",
      "URL: https://api.octopus.energy/v1/products/FIX-12M-19-04-01/electricity-tariffs/E-2R-FIX-12M-19-04-01-E/standard-unit-rates/\n",
      "Error: 400\n",
      "Response: {\"detail\":\"This tariff has day and night rates, not standard.\"}\n",
      "URL: https://api.octopus.energy/v1/products/VAR-19-04-12/electricity-tariffs/E-2R-VAR-19-04-12-E/standard-unit-rates/\n",
      "Error: 400\n",
      "Response: {\"detail\":\"This tariff has day and night rates, not standard.\"}\n",
      "Skipping VAR-18-10-05_G-1R-VAR-18-10-05-E as it does not match val_type electricity_meter_points\n",
      "Skipping FIX-12M-19-04-01_G-1R-FIX-12M-19-04-01-E as it does not match val_type electricity_meter_points\n",
      "Skipping VAR-19-04-12_G-1R-VAR-19-04-12-E as it does not match val_type electricity_meter_points\n",
      "URL: https://api.octopus.energy/v1/products/VAR-19-04-12/electricity-tariffs/E-1R-VAR-19-04-12-E/standard-unit-rates/\n",
      "Data saved to ../containers/processed/standard-unit-rates_VAR-19-04-12_E-1R-VAR-19-04-12-E.csv\n",
      "URL: https://api.octopus.energy/v1/products/GO-5H-2030-21-05-13/electricity-tariffs/E-1R-GO-5H-2030-21-05-13-E/standard-unit-rates/\n",
      "Data saved to ../containers/processed/standard-unit-rates_GO-5H-2030-21-05-13_E-1R-GO-5H-2030-21-05-13-E.csv\n",
      "URL: https://api.octopus.energy/v1/products/SMART-PREPAY-VAR-22-02-08/electricity-tariffs/E-1R-SMART-PREPAY-VAR-22-02-08-E/standard-unit-rates/\n",
      "Data saved to ../containers/processed/standard-unit-rates_SMART-PREPAY-VAR-22-02-08_E-1R-SMART-PREPAY-VAR-22-02-08-E.csv\n",
      "URL: https://api.octopus.energy/v1/products/OE-FIX-10M-22-03-08/electricity-tariffs/E-1R-OE-FIX-10M-22-03-08-E/standard-unit-rates/\n",
      "Data saved to ../containers/processed/standard-unit-rates_OE-FIX-10M-22-03-08_E-1R-OE-FIX-10M-22-03-08-E.csv\n",
      "URL: https://api.octopus.energy/v1/products/GO-22-03-29/electricity-tariffs/E-1R-GO-22-03-29-E/standard-unit-rates/\n",
      "Data saved to ../containers/processed/standard-unit-rates_GO-22-03-29_E-1R-GO-22-03-29-E.csv\n",
      "URL: https://api.octopus.energy/v1/products/GO-5H-2130-22-03-29/electricity-tariffs/E-1R-GO-5H-2130-22-03-29-E/standard-unit-rates/\n",
      "Data saved to ../containers/processed/standard-unit-rates_GO-5H-2130-22-03-29_E-1R-GO-5H-2130-22-03-29-E.csv\n",
      "URL: https://api.octopus.energy/v1/products/AGILE-FLEX-22-11-25/electricity-tariffs/E-1R-AGILE-FLEX-22-11-25-E/standard-unit-rates/\n",
      "Data saved to ../containers/processed/standard-unit-rates_AGILE-FLEX-22-11-25_E-1R-AGILE-FLEX-22-11-25-E.csv\n",
      "URL: https://api.octopus.energy/v1/products/AGILE-23-12-06/electricity-tariffs/E-1R-AGILE-23-12-06-E/standard-unit-rates/\n",
      "Data saved to ../containers/processed/standard-unit-rates_AGILE-23-12-06_E-1R-AGILE-23-12-06-E.csv\n",
      "Skipping SMART-PREPAY-VAR-22-02-08_G-1R-SMART-PREPAY-VAR-22-02-08-E as it does not match val_type electricity_meter_points\n",
      "Skipping OE-FIX-10M-22-03-08_G-1R-OE-FIX-10M-22-03-08-E as it does not match val_type electricity_meter_points\n",
      "Skipping VAR-22-10-01_G-1R-VAR-22-10-01-E as it does not match val_type electricity_meter_points\n",
      "Skipping VAR-22-11-01_G-1R-VAR-22-11-01-E as it does not match val_type electricity_meter_points\n"
     ]
    }
   ],
   "source": [
    "URL_template = \"https://api.octopus.energy/v1/products/{product_code}/electricity-tariffs/{tariff_code}/standard-unit-rates/\"\n",
    "get_tariffs(URL_template, \"standard-unit-rates\", \"electricity_meter_points\")"
   ]
  },
  {
   "cell_type": "code",
   "execution_count": 91,
   "metadata": {},
   "outputs": [
    {
     "name": "stdout",
     "output_type": "stream",
     "text": [
      "URL: https://api.octopus.energy/v1/products/VAR-18-10-05/electricity-tariffs/E-2R-VAR-18-10-05-E/day-unit-rates/\n",
      "Data saved to ../containers/processed/day-unit-rates_VAR-18-10-05_E-2R-VAR-18-10-05-E.csv\n",
      "URL: https://api.octopus.energy/v1/products/FIX-12M-19-04-01/electricity-tariffs/E-2R-FIX-12M-19-04-01-E/day-unit-rates/\n",
      "Data saved to ../containers/processed/day-unit-rates_FIX-12M-19-04-01_E-2R-FIX-12M-19-04-01-E.csv\n",
      "URL: https://api.octopus.energy/v1/products/VAR-19-04-12/electricity-tariffs/E-2R-VAR-19-04-12-E/day-unit-rates/\n",
      "Data saved to ../containers/processed/day-unit-rates_VAR-19-04-12_E-2R-VAR-19-04-12-E.csv\n",
      "Skipping VAR-18-10-05_G-1R-VAR-18-10-05-E as it does not match val_type electricity_meter_points\n",
      "Skipping FIX-12M-19-04-01_G-1R-FIX-12M-19-04-01-E as it does not match val_type electricity_meter_points\n",
      "Skipping VAR-19-04-12_G-1R-VAR-19-04-12-E as it does not match val_type electricity_meter_points\n",
      "URL: https://api.octopus.energy/v1/products/VAR-19-04-12/electricity-tariffs/E-1R-VAR-19-04-12-E/day-unit-rates/\n",
      "Error: 400\n",
      "Response: {\"detail\":\"This tariff has standard rates, not day and night.\"}\n",
      "URL: https://api.octopus.energy/v1/products/GO-5H-2030-21-05-13/electricity-tariffs/E-1R-GO-5H-2030-21-05-13-E/day-unit-rates/\n",
      "Error: 400\n",
      "Response: {\"detail\":\"This tariff has standard rates, not day and night.\"}\n",
      "URL: https://api.octopus.energy/v1/products/SMART-PREPAY-VAR-22-02-08/electricity-tariffs/E-1R-SMART-PREPAY-VAR-22-02-08-E/day-unit-rates/\n",
      "Error: 400\n",
      "Response: {\"detail\":\"This tariff has standard rates, not day and night.\"}\n",
      "URL: https://api.octopus.energy/v1/products/OE-FIX-10M-22-03-08/electricity-tariffs/E-1R-OE-FIX-10M-22-03-08-E/day-unit-rates/\n",
      "Error: 400\n",
      "Response: {\"detail\":\"This tariff has standard rates, not day and night.\"}\n",
      "URL: https://api.octopus.energy/v1/products/GO-22-03-29/electricity-tariffs/E-1R-GO-22-03-29-E/day-unit-rates/\n",
      "Error: 400\n",
      "Response: {\"detail\":\"This tariff has standard rates, not day and night.\"}\n",
      "URL: https://api.octopus.energy/v1/products/GO-5H-2130-22-03-29/electricity-tariffs/E-1R-GO-5H-2130-22-03-29-E/day-unit-rates/\n",
      "Error: 400\n",
      "Response: {\"detail\":\"This tariff has standard rates, not day and night.\"}\n",
      "URL: https://api.octopus.energy/v1/products/AGILE-FLEX-22-11-25/electricity-tariffs/E-1R-AGILE-FLEX-22-11-25-E/day-unit-rates/\n",
      "Error: 400\n",
      "Response: {\"detail\":\"This tariff has standard rates, not day and night.\"}\n",
      "URL: https://api.octopus.energy/v1/products/AGILE-23-12-06/electricity-tariffs/E-1R-AGILE-23-12-06-E/day-unit-rates/\n",
      "Error: 400\n",
      "Response: {\"detail\":\"This tariff has standard rates, not day and night.\"}\n",
      "Skipping SMART-PREPAY-VAR-22-02-08_G-1R-SMART-PREPAY-VAR-22-02-08-E as it does not match val_type electricity_meter_points\n",
      "Skipping OE-FIX-10M-22-03-08_G-1R-OE-FIX-10M-22-03-08-E as it does not match val_type electricity_meter_points\n",
      "Skipping VAR-22-10-01_G-1R-VAR-22-10-01-E as it does not match val_type electricity_meter_points\n",
      "Skipping VAR-22-11-01_G-1R-VAR-22-11-01-E as it does not match val_type electricity_meter_points\n"
     ]
    }
   ],
   "source": [
    "URL_template = \"https://api.octopus.energy/v1/products/{product_code}/electricity-tariffs/{tariff_code}/day-unit-rates/\"\n",
    "get_tariffs(URL_template, \"day-unit-rates\", \"electricity_meter_points\")"
   ]
  },
  {
   "cell_type": "code",
   "execution_count": 92,
   "metadata": {},
   "outputs": [
    {
     "name": "stdout",
     "output_type": "stream",
     "text": [
      "URL: https://api.octopus.energy/v1/products/VAR-18-10-05/electricity-tariffs/E-2R-VAR-18-10-05-E/night-unit-rates/\n",
      "Data saved to ../containers/processed/night-unit-rates_VAR-18-10-05_E-2R-VAR-18-10-05-E.csv\n",
      "URL: https://api.octopus.energy/v1/products/FIX-12M-19-04-01/electricity-tariffs/E-2R-FIX-12M-19-04-01-E/night-unit-rates/\n",
      "Data saved to ../containers/processed/night-unit-rates_FIX-12M-19-04-01_E-2R-FIX-12M-19-04-01-E.csv\n",
      "URL: https://api.octopus.energy/v1/products/VAR-19-04-12/electricity-tariffs/E-2R-VAR-19-04-12-E/night-unit-rates/\n",
      "Data saved to ../containers/processed/night-unit-rates_VAR-19-04-12_E-2R-VAR-19-04-12-E.csv\n",
      "Skipping VAR-18-10-05_G-1R-VAR-18-10-05-E as it does not match val_type electricity_meter_points\n",
      "Skipping FIX-12M-19-04-01_G-1R-FIX-12M-19-04-01-E as it does not match val_type electricity_meter_points\n",
      "Skipping VAR-19-04-12_G-1R-VAR-19-04-12-E as it does not match val_type electricity_meter_points\n",
      "URL: https://api.octopus.energy/v1/products/VAR-19-04-12/electricity-tariffs/E-1R-VAR-19-04-12-E/night-unit-rates/\n",
      "Error: 400\n",
      "Response: {\"detail\":\"This tariff has standard rates, not day and night.\"}\n",
      "URL: https://api.octopus.energy/v1/products/GO-5H-2030-21-05-13/electricity-tariffs/E-1R-GO-5H-2030-21-05-13-E/night-unit-rates/\n",
      "Error: 400\n",
      "Response: {\"detail\":\"This tariff has standard rates, not day and night.\"}\n",
      "URL: https://api.octopus.energy/v1/products/SMART-PREPAY-VAR-22-02-08/electricity-tariffs/E-1R-SMART-PREPAY-VAR-22-02-08-E/night-unit-rates/\n",
      "Error: 400\n",
      "Response: {\"detail\":\"This tariff has standard rates, not day and night.\"}\n",
      "URL: https://api.octopus.energy/v1/products/OE-FIX-10M-22-03-08/electricity-tariffs/E-1R-OE-FIX-10M-22-03-08-E/night-unit-rates/\n",
      "Error: 400\n",
      "Response: {\"detail\":\"This tariff has standard rates, not day and night.\"}\n",
      "URL: https://api.octopus.energy/v1/products/GO-22-03-29/electricity-tariffs/E-1R-GO-22-03-29-E/night-unit-rates/\n",
      "Error: 400\n",
      "Response: {\"detail\":\"This tariff has standard rates, not day and night.\"}\n",
      "URL: https://api.octopus.energy/v1/products/GO-5H-2130-22-03-29/electricity-tariffs/E-1R-GO-5H-2130-22-03-29-E/night-unit-rates/\n",
      "Error: 400\n",
      "Response: {\"detail\":\"This tariff has standard rates, not day and night.\"}\n",
      "URL: https://api.octopus.energy/v1/products/AGILE-FLEX-22-11-25/electricity-tariffs/E-1R-AGILE-FLEX-22-11-25-E/night-unit-rates/\n",
      "Error: 400\n",
      "Response: {\"detail\":\"This tariff has standard rates, not day and night.\"}\n",
      "URL: https://api.octopus.energy/v1/products/AGILE-23-12-06/electricity-tariffs/E-1R-AGILE-23-12-06-E/night-unit-rates/\n",
      "Error: 400\n",
      "Response: {\"detail\":\"This tariff has standard rates, not day and night.\"}\n",
      "Skipping SMART-PREPAY-VAR-22-02-08_G-1R-SMART-PREPAY-VAR-22-02-08-E as it does not match val_type electricity_meter_points\n",
      "Skipping OE-FIX-10M-22-03-08_G-1R-OE-FIX-10M-22-03-08-E as it does not match val_type electricity_meter_points\n",
      "Skipping VAR-22-10-01_G-1R-VAR-22-10-01-E as it does not match val_type electricity_meter_points\n",
      "Skipping VAR-22-11-01_G-1R-VAR-22-11-01-E as it does not match val_type electricity_meter_points\n"
     ]
    }
   ],
   "source": [
    "URL_template = \"https://api.octopus.energy/v1/products/{product_code}/electricity-tariffs/{tariff_code}/night-unit-rates/\"\n",
    "get_tariffs(URL_template, \"night-unit-rates\", \"electricity_meter_points\")"
   ]
  },
  {
   "cell_type": "code",
   "execution_count": 93,
   "metadata": {},
   "outputs": [
    {
     "name": "stdout",
     "output_type": "stream",
     "text": [
      "Skipping VAR-18-10-05_E-2R-VAR-18-10-05-E as it does not match val_type gas_meter_points\n",
      "Skipping FIX-12M-19-04-01_E-2R-FIX-12M-19-04-01-E as it does not match val_type gas_meter_points\n",
      "Skipping VAR-19-04-12_E-2R-VAR-19-04-12-E as it does not match val_type gas_meter_points\n",
      "URL: https://api.octopus.energy/v1/products/VAR-18-10-05/gas-tariffs/G-1R-VAR-18-10-05-E/standing-charges/\n",
      "Data saved to ../containers/processed/standing-charges_VAR-18-10-05_G-1R-VAR-18-10-05-E.csv\n",
      "URL: https://api.octopus.energy/v1/products/FIX-12M-19-04-01/gas-tariffs/G-1R-FIX-12M-19-04-01-E/standing-charges/\n",
      "Data saved to ../containers/processed/standing-charges_FIX-12M-19-04-01_G-1R-FIX-12M-19-04-01-E.csv\n",
      "URL: https://api.octopus.energy/v1/products/VAR-19-04-12/gas-tariffs/G-1R-VAR-19-04-12-E/standing-charges/\n",
      "Data saved to ../containers/processed/standing-charges_VAR-19-04-12_G-1R-VAR-19-04-12-E.csv\n",
      "Skipping VAR-19-04-12_E-1R-VAR-19-04-12-E as it does not match val_type gas_meter_points\n",
      "Skipping GO-5H-2030-21-05-13_E-1R-GO-5H-2030-21-05-13-E as it does not match val_type gas_meter_points\n",
      "Skipping SMART-PREPAY-VAR-22-02-08_E-1R-SMART-PREPAY-VAR-22-02-08-E as it does not match val_type gas_meter_points\n",
      "Skipping OE-FIX-10M-22-03-08_E-1R-OE-FIX-10M-22-03-08-E as it does not match val_type gas_meter_points\n",
      "Skipping GO-22-03-29_E-1R-GO-22-03-29-E as it does not match val_type gas_meter_points\n",
      "Skipping GO-5H-2130-22-03-29_E-1R-GO-5H-2130-22-03-29-E as it does not match val_type gas_meter_points\n",
      "Skipping AGILE-FLEX-22-11-25_E-1R-AGILE-FLEX-22-11-25-E as it does not match val_type gas_meter_points\n",
      "Skipping AGILE-23-12-06_E-1R-AGILE-23-12-06-E as it does not match val_type gas_meter_points\n",
      "URL: https://api.octopus.energy/v1/products/SMART-PREPAY-VAR-22-02-08/gas-tariffs/G-1R-SMART-PREPAY-VAR-22-02-08-E/standing-charges/\n",
      "Data saved to ../containers/processed/standing-charges_SMART-PREPAY-VAR-22-02-08_G-1R-SMART-PREPAY-VAR-22-02-08-E.csv\n",
      "URL: https://api.octopus.energy/v1/products/OE-FIX-10M-22-03-08/gas-tariffs/G-1R-OE-FIX-10M-22-03-08-E/standing-charges/\n",
      "Data saved to ../containers/processed/standing-charges_OE-FIX-10M-22-03-08_G-1R-OE-FIX-10M-22-03-08-E.csv\n",
      "URL: https://api.octopus.energy/v1/products/VAR-22-10-01/gas-tariffs/G-1R-VAR-22-10-01-E/standing-charges/\n",
      "Data saved to ../containers/processed/standing-charges_VAR-22-10-01_G-1R-VAR-22-10-01-E.csv\n",
      "URL: https://api.octopus.energy/v1/products/VAR-22-11-01/gas-tariffs/G-1R-VAR-22-11-01-E/standing-charges/\n",
      "Data saved to ../containers/processed/standing-charges_VAR-22-11-01_G-1R-VAR-22-11-01-E.csv\n"
     ]
    }
   ],
   "source": [
    "URL_template = \"https://api.octopus.energy/v1/products/{product_code}/gas-tariffs/{tariff_code}/standing-charges/\"\n",
    "get_tariffs(URL_template, \"standing-charges\", \"gas_meter_points\")"
   ]
  },
  {
   "cell_type": "code",
   "execution_count": 94,
   "metadata": {},
   "outputs": [
    {
     "name": "stdout",
     "output_type": "stream",
     "text": [
      "Skipping VAR-18-10-05_E-2R-VAR-18-10-05-E as it does not match val_type gas_meter_points\n",
      "Skipping FIX-12M-19-04-01_E-2R-FIX-12M-19-04-01-E as it does not match val_type gas_meter_points\n",
      "Skipping VAR-19-04-12_E-2R-VAR-19-04-12-E as it does not match val_type gas_meter_points\n",
      "URL: https://api.octopus.energy/v1/products/VAR-18-10-05/gas-tariffs/G-1R-VAR-18-10-05-E/standard-unit-rates/\n",
      "Data saved to ../containers/processed/standard-unit-rates_VAR-18-10-05_G-1R-VAR-18-10-05-E.csv\n",
      "URL: https://api.octopus.energy/v1/products/FIX-12M-19-04-01/gas-tariffs/G-1R-FIX-12M-19-04-01-E/standard-unit-rates/\n",
      "Data saved to ../containers/processed/standard-unit-rates_FIX-12M-19-04-01_G-1R-FIX-12M-19-04-01-E.csv\n",
      "URL: https://api.octopus.energy/v1/products/VAR-19-04-12/gas-tariffs/G-1R-VAR-19-04-12-E/standard-unit-rates/\n",
      "Data saved to ../containers/processed/standard-unit-rates_VAR-19-04-12_G-1R-VAR-19-04-12-E.csv\n",
      "Skipping VAR-19-04-12_E-1R-VAR-19-04-12-E as it does not match val_type gas_meter_points\n",
      "Skipping GO-5H-2030-21-05-13_E-1R-GO-5H-2030-21-05-13-E as it does not match val_type gas_meter_points\n",
      "Skipping SMART-PREPAY-VAR-22-02-08_E-1R-SMART-PREPAY-VAR-22-02-08-E as it does not match val_type gas_meter_points\n",
      "Skipping OE-FIX-10M-22-03-08_E-1R-OE-FIX-10M-22-03-08-E as it does not match val_type gas_meter_points\n",
      "Skipping GO-22-03-29_E-1R-GO-22-03-29-E as it does not match val_type gas_meter_points\n",
      "Skipping GO-5H-2130-22-03-29_E-1R-GO-5H-2130-22-03-29-E as it does not match val_type gas_meter_points\n",
      "Skipping AGILE-FLEX-22-11-25_E-1R-AGILE-FLEX-22-11-25-E as it does not match val_type gas_meter_points\n",
      "Skipping AGILE-23-12-06_E-1R-AGILE-23-12-06-E as it does not match val_type gas_meter_points\n",
      "URL: https://api.octopus.energy/v1/products/SMART-PREPAY-VAR-22-02-08/gas-tariffs/G-1R-SMART-PREPAY-VAR-22-02-08-E/standard-unit-rates/\n",
      "Data saved to ../containers/processed/standard-unit-rates_SMART-PREPAY-VAR-22-02-08_G-1R-SMART-PREPAY-VAR-22-02-08-E.csv\n",
      "URL: https://api.octopus.energy/v1/products/OE-FIX-10M-22-03-08/gas-tariffs/G-1R-OE-FIX-10M-22-03-08-E/standard-unit-rates/\n",
      "Data saved to ../containers/processed/standard-unit-rates_OE-FIX-10M-22-03-08_G-1R-OE-FIX-10M-22-03-08-E.csv\n",
      "URL: https://api.octopus.energy/v1/products/VAR-22-10-01/gas-tariffs/G-1R-VAR-22-10-01-E/standard-unit-rates/\n",
      "Data saved to ../containers/processed/standard-unit-rates_VAR-22-10-01_G-1R-VAR-22-10-01-E.csv\n",
      "URL: https://api.octopus.energy/v1/products/VAR-22-11-01/gas-tariffs/G-1R-VAR-22-11-01-E/standard-unit-rates/\n",
      "Data saved to ../containers/processed/standard-unit-rates_VAR-22-11-01_G-1R-VAR-22-11-01-E.csv\n"
     ]
    }
   ],
   "source": [
    "URL_template = \"https://api.octopus.energy/v1/products/{product_code}/gas-tariffs/{tariff_code}/standard-unit-rates/\"\n",
    "get_tariffs(URL_template, \"standard-unit-rates\", \"gas_meter_points\")"
   ]
  }
 ],
 "metadata": {
  "kernelspec": {
   "display_name": "Python 3",
   "language": "python",
   "name": "python3"
  },
  "language_info": {
   "codemirror_mode": {
    "name": "ipython",
    "version": 3
   },
   "file_extension": ".py",
   "mimetype": "text/x-python",
   "name": "python",
   "nbconvert_exporter": "python",
   "pygments_lexer": "ipython3",
   "version": "3.9.6"
  }
 },
 "nbformat": 4,
 "nbformat_minor": 2
}
